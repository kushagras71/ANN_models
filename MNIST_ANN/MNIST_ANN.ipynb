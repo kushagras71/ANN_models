{
 "cells": [
  {
   "cell_type": "code",
   "execution_count": 1,
   "metadata": {},
   "outputs": [],
   "source": [
    "import pandas as pd\n",
    "import numpy as np\n",
    "import matplotlib.pyplot as plt"
   ]
  },
  {
   "cell_type": "code",
   "execution_count": 2,
   "metadata": {},
   "outputs": [],
   "source": [
    "#Importing the dataset\n",
    "from tensorflow.keras.datasets import mnist\n",
    "(X_train,y_train),(X_test,y_test) =mnist.load_data()"
   ]
  },
  {
   "cell_type": "code",
   "execution_count": 3,
   "metadata": {},
   "outputs": [],
   "source": [
    "#One hot encoding\n",
    "from tensorflow.keras.utils import to_categorical\n",
    "y_cat_train = to_categorical(y_train,num_classes=10)\n",
    "y_cat_test = to_categorical(y_test,num_classes=10)"
   ]
  },
  {
   "cell_type": "code",
   "execution_count": 4,
   "metadata": {},
   "outputs": [
    {
     "name": "stdout",
     "output_type": "stream",
     "text": [
      " The number is:  7\n"
     ]
    },
    {
     "data": {
      "image/png": "[encoded data removed]",
      "text/plain": [
       "<Figure size 432x288 with 1 Axes>"
      ]
     },
     "metadata": {
      "needs_background": "light"
     },
     "output_type": "display_data"
    }
   ],
   "source": [
    "#Showing sample image\n",
    "plt.imshow(X_train[324])\n",
    "print(' The number is: ',y_train[324])"
   ]
  },
  {
   "cell_type": "code",
   "execution_count": 10,
   "metadata": {},
   "outputs": [],
   "source": [
    "# Creating the ANN Model\n",
    "from tensorflow.keras.models import Sequential\n",
    "from tensorflow.keras.layers import Dense,Dropout,Flatten\n",
    "from tensorflow.keras.callbacks import EarlyStopping\n",
    "model = Sequential()\n",
    "model.add(Flatten(input_shape=(28,28)))\n",
    "model.add(Dense(units=128,activation='relu'))\n",
    "model.add(Dense(units=64,activation='relu'))\n",
    "model.add(Dense(units=64,activation='relu'))\n",
    "model.add(Dense(units=10,activation='softmax'))\n",
    "model.compile(optimizer='adam',loss='categorical_crossentropy',metrics=['accuracy'])"
   ]
  },
  {
   "cell_type": "code",
   "execution_count": 11,
   "metadata": {},
   "outputs": [
    {
     "name": "stdout",
     "output_type": "stream",
     "text": [
      "Model: \"sequential_1\"\n",
      "_________________________________________________________________\n",
      "Layer (type)                 Output Shape              Param #   \n",
      "=================================================================\n",
      "flatten_1 (Flatten)          (None, 784)               0         \n",
      "_________________________________________________________________\n",
      "dense_5 (Dense)              (None, 128)               100480    \n",
      "_________________________________________________________________\n",
      "dense_6 (Dense)              (None, 64)                8256      \n",
      "_________________________________________________________________\n",
      "dense_7 (Dense)              (None, 64)                4160      \n",
      "_________________________________________________________________\n",
      "dense_8 (Dense)              (None, 10)                650       \n",
      "=================================================================\n",
      "Total params: 113,546\n",
      "Trainable params: 113,546\n",
      "Non-trainable params: 0\n",
      "_________________________________________________________________\n"
     ]
    }
   ],
   "source": [
    "model.summary()"
   ]
  },
  {
   "cell_type": "code",
   "execution_count": 12,
   "metadata": {},
   "outputs": [],
   "source": [
    "# Creating an instance early stopping\n",
    "early_stop = EarlyStopping(monitor='val_loss',patience=2,verbose=1)"
   ]
  },
  {
   "cell_type": "code",
   "execution_count": 13,
   "metadata": {},
   "outputs": [
    {
     "name": "stdout",
     "output_type": "stream",
     "text": [
      "Train on 60000 samples, validate on 10000 samples\n",
      "Epoch 1/200\n",
      "60000/60000 [==============================] - 15s 254us/sample - loss: 0.9657 - accuracy: 0.8471 - val_loss: 0.3640 - val_accuracy: 0.9085\n",
      "Epoch 2/200\n",
      "60000/60000 [==============================] - 14s 229us/sample - loss: 0.2892 - accuracy: 0.9258 - val_loss: 0.2581 - val_accuracy: 0.9353\n",
      "Epoch 3/200\n",
      "60000/60000 [==============================] - 14s 229us/sample - loss: 0.2271 - accuracy: 0.9415 - val_loss: 0.2269 - val_accuracy: 0.9428\n",
      "Epoch 4/200\n",
      "60000/60000 [==============================] - 14s 230us/sample - loss: 0.1858 - accuracy: 0.9519 - val_loss: 0.2193 - val_accuracy: 0.9517\n",
      "Epoch 5/200\n",
      "60000/60000 [==============================] - 14s 230us/sample - loss: 0.1654 - accuracy: 0.9581 - val_loss: 0.1876 - val_accuracy: 0.9523\n",
      "Epoch 6/200\n",
      "60000/60000 [==============================] - 14s 230us/sample - loss: 0.1379 - accuracy: 0.9644 - val_loss: 0.1645 - val_accuracy: 0.9587\n",
      "Epoch 7/200\n",
      "60000/60000 [==============================] - 14s 233us/sample - loss: 0.1171 - accuracy: 0.9682 - val_loss: 0.1783 - val_accuracy: 0.9598\n",
      "Epoch 8/200\n",
      "60000/60000 [==============================] - 14s 230us/sample - loss: 0.1003 - accuracy: 0.9732 - val_loss: 0.1409 - val_accuracy: 0.9652\n",
      "Epoch 9/200\n",
      "60000/60000 [==============================] - 14s 231us/sample - loss: 0.0905 - accuracy: 0.9749 - val_loss: 0.1455 - val_accuracy: 0.9642\n",
      "Epoch 10/200\n",
      "60000/60000 [==============================] - 14s 231us/sample - loss: 0.0803 - accuracy: 0.9780 - val_loss: 0.1249 - val_accuracy: 0.9694\n",
      "Epoch 11/200\n",
      "60000/60000 [==============================] - 14s 234us/sample - loss: 0.0746 - accuracy: 0.9801 - val_loss: 0.1283 - val_accuracy: 0.9685\n",
      "Epoch 12/200\n",
      "60000/60000 [==============================] - 14s 231us/sample - loss: 0.0703 - accuracy: 0.9812 - val_loss: 0.1291 - val_accuracy: 0.9700\n",
      "Epoch 00012: early stopping\n"
     ]
    },
    {
     "data": {
      "text/plain": [
       "<tensorflow.python.keras.callbacks.History at 0x2d10c6f5188>"
      ]
     },
     "execution_count": 13,
     "metadata": {},
     "output_type": "execute_result"
    }
   ],
   "source": [
    "# Fitting the training set on the model and validating it using the test set\n",
    "model.fit(x=X_train,y=y_cat_train,epochs=200,verbose=1,\n",
    "          validation_data=(X_test,y_cat_test),callbacks=[early_stop])\n"
   ]
  },
  {
   "cell_type": "code",
   "execution_count": 14,
   "metadata": {},
   "outputs": [
    {
     "data": {
      "text/html": [
       "<div>\n",
       "<style scoped>\n",
       "    .dataframe tbody tr th:only-of-type {\n",
       "        vertical-align: middle;\n",
       "    }\n",
       "\n",
       "    .dataframe tbody tr th {\n",
       "        vertical-align: top;\n",
       "    }\n",
       "\n",
       "    .dataframe thead th {\n",
       "        text-align: right;\n",
       "    }\n",
       "</style>\n",
       "<table border=\"1\" class=\"dataframe\">\n",
       "  <thead>\n",
       "    <tr style=\"text-align: right;\">\n",
       "      <th></th>\n",
       "      <th>loss</th>\n",
       "      <th>accuracy</th>\n",
       "      <th>val_loss</th>\n",
       "      <th>val_accuracy</th>\n",
       "    </tr>\n",
       "  </thead>\n",
       "  <tbody>\n",
       "    <tr>\n",
       "      <th>0</th>\n",
       "      <td>0.965703</td>\n",
       "      <td>0.847117</td>\n",
       "      <td>0.363966</td>\n",
       "      <td>0.9085</td>\n",
       "    </tr>\n",
       "    <tr>\n",
       "      <th>1</th>\n",
       "      <td>0.289178</td>\n",
       "      <td>0.925800</td>\n",
       "      <td>0.258113</td>\n",
       "      <td>0.9353</td>\n",
       "    </tr>\n",
       "    <tr>\n",
       "      <th>2</th>\n",
       "      <td>0.227127</td>\n",
       "      <td>0.941500</td>\n",
       "      <td>0.226942</td>\n",
       "      <td>0.9428</td>\n",
       "    </tr>\n",
       "    <tr>\n",
       "      <th>3</th>\n",
       "      <td>0.185776</td>\n",
       "      <td>0.951883</td>\n",
       "      <td>0.219253</td>\n",
       "      <td>0.9517</td>\n",
       "    </tr>\n",
       "    <tr>\n",
       "      <th>4</th>\n",
       "      <td>0.165378</td>\n",
       "      <td>0.958133</td>\n",
       "      <td>0.187592</td>\n",
       "      <td>0.9523</td>\n",
       "    </tr>\n",
       "    <tr>\n",
       "      <th>5</th>\n",
       "      <td>0.137864</td>\n",
       "      <td>0.964433</td>\n",
       "      <td>0.164499</td>\n",
       "      <td>0.9587</td>\n",
       "    </tr>\n",
       "    <tr>\n",
       "      <th>6</th>\n",
       "      <td>0.117055</td>\n",
       "      <td>0.968233</td>\n",
       "      <td>0.178325</td>\n",
       "      <td>0.9598</td>\n",
       "    </tr>\n",
       "    <tr>\n",
       "      <th>7</th>\n",
       "      <td>0.100305</td>\n",
       "      <td>0.973217</td>\n",
       "      <td>0.140911</td>\n",
       "      <td>0.9652</td>\n",
       "    </tr>\n",
       "    <tr>\n",
       "      <th>8</th>\n",
       "      <td>0.090479</td>\n",
       "      <td>0.974883</td>\n",
       "      <td>0.145507</td>\n",
       "      <td>0.9642</td>\n",
       "    </tr>\n",
       "    <tr>\n",
       "      <th>9</th>\n",
       "      <td>0.080332</td>\n",
       "      <td>0.977967</td>\n",
       "      <td>0.124882</td>\n",
       "      <td>0.9694</td>\n",
       "    </tr>\n",
       "    <tr>\n",
       "      <th>10</th>\n",
       "      <td>0.074650</td>\n",
       "      <td>0.980067</td>\n",
       "      <td>0.128259</td>\n",
       "      <td>0.9685</td>\n",
       "    </tr>\n",
       "    <tr>\n",
       "      <th>11</th>\n",
       "      <td>0.070320</td>\n",
       "      <td>0.981217</td>\n",
       "      <td>0.129120</td>\n",
       "      <td>0.9700</td>\n",
       "    </tr>\n",
       "  </tbody>\n",
       "</table>\n",
       "</div>"
      ],
      "text/plain": [
       "        loss  accuracy  val_loss  val_accuracy\n",
       "0   0.965703  0.847117  0.363966        0.9085\n",
       "1   0.289178  0.925800  0.258113        0.9353\n",
       "2   0.227127  0.941500  0.226942        0.9428\n",
       "3   0.185776  0.951883  0.219253        0.9517\n",
       "4   0.165378  0.958133  0.187592        0.9523\n",
       "5   0.137864  0.964433  0.164499        0.9587\n",
       "6   0.117055  0.968233  0.178325        0.9598\n",
       "7   0.100305  0.973217  0.140911        0.9652\n",
       "8   0.090479  0.974883  0.145507        0.9642\n",
       "9   0.080332  0.977967  0.124882        0.9694\n",
       "10  0.074650  0.980067  0.128259        0.9685\n",
       "11  0.070320  0.981217  0.129120        0.9700"
      ]
     },
     "execution_count": 14,
     "metadata": {},
     "output_type": "execute_result"
    }
   ],
   "source": [
    "# Getting the final results of the training\n",
    "results = pd.DataFrame(model.history.history)\n",
    "results"
   ]
  },
  {
   "cell_type": "code",
   "execution_count": 15,
   "metadata": {},
   "outputs": [
    {
     "data": {
      "text/plain": [
       "<matplotlib.axes._subplots.AxesSubplot at 0x2d10f951488>"
      ]
     },
     "execution_count": 15,
     "metadata": {},
     "output_type": "execute_result"
    },
    {
     "data": {
      "image/png": "[encoded data removed]",
      "text/plain": [
       "<Figure size 432x288 with 1 Axes>"
      ]
     },
     "metadata": {
      "needs_background": "light"
     },
     "output_type": "display_data"
    }
   ],
   "source": [
    "results[['loss','val_loss']].plot()"
   ]
  },
  {
   "cell_type": "code",
   "execution_count": 16,
   "metadata": {},
   "outputs": [
    {
     "data": {
      "text/plain": [
       "<matplotlib.axes._subplots.AxesSubplot at 0x2d10f9f5b48>"
      ]
     },
     "execution_count": 16,
     "metadata": {},
     "output_type": "execute_result"
    },
    {
     "data": {
      "image/png": "[encoded data removed]",
      "text/plain": [
       "<Figure size 432x288 with 1 Axes>"
      ]
     },
     "metadata": {
      "needs_background": "light"
     },
     "output_type": "display_data"
    }
   ],
   "source": [
    "results[['accuracy','val_accuracy']].plot()"
   ]
  },
  {
   "cell_type": "code",
   "execution_count": 18,
   "metadata": {},
   "outputs": [],
   "source": [
    "# Predicting the classes for test set and storing the them along with the true values\n",
    "predictions = model.predict_classes(X_test)\n",
    "true_values = list(y_test)\n",
    "predicted_values = list(predictions)\n",
    "sub = pd.DataFrame({'True Values':true_values,'Predictions':predictions})\n",
    "sub.to_csv('./True_vs_Predicted_MNIST_ANN.csv',index=False)"
   ]
  },
  {
   "cell_type": "code",
   "execution_count": 19,
   "metadata": {},
   "outputs": [
    {
     "data": {
      "text/plain": [
       "array([[ 971,    0,    0,    1,    0,    2,    2,    1,    1,    2],\n",
       "       [   0, 1125,    2,    1,    0,    1,    2,    0,    4,    0],\n",
       "       [   8,    4,  986,   12,    5,    0,    1,    6,    9,    1],\n",
       "       [   0,    0,    3,  992,    0,    5,    0,    2,    5,    3],\n",
       "       [   0,    1,    3,    1,  944,    0,    6,    3,    1,   23],\n",
       "       [   3,    1,    1,   16,    2,  851,    8,    0,    6,    4],\n",
       "       [   7,    3,    0,    0,    8,    3,  930,    0,    7,    0],\n",
       "       [   1,    6,    5,    9,    0,    1,    0,  994,    0,   12],\n",
       "       [  10,    2,    2,   16,    2,    3,    2,    2,  929,    6],\n",
       "       [   3,    2,    1,   12,    3,    0,    0,    7,    3,  978]],\n",
       "      dtype=int64)"
      ]
     },
     "execution_count": 19,
     "metadata": {},
     "output_type": "execute_result"
    }
   ],
   "source": [
    "# Evaluting the model using confusion matrix\n",
    "from sklearn.metrics import confusion_matrix\n",
    "con_mat = confusion_matrix(y_test,predictions)\n",
    "con_mat"
   ]
  },
  {
   "cell_type": "code",
   "execution_count": null,
   "metadata": {},
   "outputs": [],
   "source": []
  }
 ],
 "metadata": {
  "kernelspec": {
   "display_name": "Python 3.7 (tensorflow)",
   "language": "python",
   "name": "tensorflow"
  },
  "language_info": {
   "codemirror_mode": {
    "name": "ipython",
    "version": 3
   },
   "file_extension": ".py",
   "mimetype": "text/x-python",
   "name": "python",
   "nbconvert_exporter": "python",
   "pygments_lexer": "ipython3",
   "version": "3.7.7"
  }
 },
 "nbformat": 4,
 "nbformat_minor": 4
}
