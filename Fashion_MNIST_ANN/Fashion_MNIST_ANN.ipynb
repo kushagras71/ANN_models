{
 "cells": [
  {
   "cell_type": "code",
   "execution_count": 1,
   "metadata": {},
   "outputs": [],
   "source": [
    "import pandas as pd\n",
    "import numpy as np\n",
    "import matplotlib.pyplot as plt"
   ]
  },
  {
   "cell_type": "code",
   "execution_count": 2,
   "metadata": {},
   "outputs": [],
   "source": [
    "#Importing the dataset\n",
    "from tensorflow.keras.datasets import fashion_mnist\n",
    "(X_train,y_train),(X_test,y_test) = fashion_mnist.load_data()"
   ]
  },
  {
   "cell_type": "code",
   "execution_count": 3,
   "metadata": {},
   "outputs": [],
   "source": [
    "#one hot encoding\n",
    "from tensorflow.keras.utils import to_categorical\n",
    "y_cat_train = to_categorical(y_train,num_classes=10)\n",
    "y_cat_test = to_categorical(y_test,num_classes=10)"
   ]
  },
  {
   "cell_type": "code",
   "execution_count": 4,
   "metadata": {},
   "outputs": [
    {
     "data": {
      "text/plain": [
       "<matplotlib.image.AxesImage at 0x1c1a58e0948>"
      ]
     },
     "execution_count": 4,
     "metadata": {},
     "output_type": "execute_result"
    },
    {
     "data": {
      "image/png": "[encoded data removed]",
      "text/plain": [
       "<Figure size 432x288 with 1 Axes>"
      ]
     },
     "metadata": {
      "needs_background": "light"
     },
     "output_type": "display_data"
    }
   ],
   "source": [
    "# sample image from the training set\n",
    "plt.imshow(X_train[35])"
   ]
  },
  {
   "cell_type": "code",
   "execution_count": 20,
   "metadata": {},
   "outputs": [],
   "source": [
    "# Creating the model\n",
    "from tensorflow.keras.models import Sequential\n",
    "from tensorflow.keras.layers import Dense,Dropout,Flatten\n",
    "from tensorflow.keras.callbacks import EarlyStopping\n",
    "\n",
    "model = Sequential()\n",
    "model.add(Flatten(input_shape=(28,28)))\n",
    "model.add(Dense(units=256,activation='relu'))\n",
    "he model.add(Dense(units=128,activation='relu'))\n",
    "model.add(Dense(units=64,activation='relu'))\n",
    "model.add(Dense(units=32,activation='relu'))\n",
    "model.add(Dense(units=10,activation='softmax'))\n",
    "model.compile(optimizer='adam',loss='categorical_crossentropy',metrics=['accuracy'])\n"
   ]
  },
  {
   "cell_type": "code",
   "execution_count": 21,
   "metadata": {},
   "outputs": [],
   "source": [
    "# creating an instance for the early stopping\n",
    "early_stop = EarlyStopping(monitor='val_loss',patience=5)"
   ]
  },
  {
   "cell_type": "code",
   "execution_count": 22,
   "metadata": {},
   "outputs": [
    {
     "name": "stdout",
     "output_type": "stream",
     "text": [
      "Train on 60000 samples, validate on 10000 samples\n",
      "Epoch 1/200\n",
      "60000/60000 [==============================] - 19s 324us/sample - loss: 1.0090 - accuracy: 0.7498 - val_loss: 0.5255 - val_accuracy: 0.8153\n",
      "Epoch 2/200\n",
      "60000/60000 [==============================] - 15s 243us/sample - loss: 0.4886 - accuracy: 0.8264 - val_loss: 0.4870 - val_accuracy: 0.8216\n",
      "Epoch 3/200\n",
      "60000/60000 [==============================] - 15s 255us/sample - loss: 0.4355 - accuracy: 0.8433 - val_loss: 0.4426 - val_accuracy: 0.8403\n",
      "Epoch 4/200\n",
      "60000/60000 [==============================] - 15s 255us/sample - loss: 0.3996 - accuracy: 0.8560 - val_loss: 0.5104 - val_accuracy: 0.8337\n",
      "Epoch 5/200\n",
      "60000/60000 [==============================] - 16s 262us/sample - loss: 0.3793 - accuracy: 0.8631 - val_loss: 0.4001 - val_accuracy: 0.8548\n",
      "Epoch 6/200\n",
      "60000/60000 [==============================] - 16s 272us/sample - loss: 0.3620 - accuracy: 0.8695 - val_loss: 0.4021 - val_accuracy: 0.8599\n",
      "Epoch 7/200\n",
      "60000/60000 [==============================] - 15s 253us/sample - loss: 0.3435 - accuracy: 0.8759 - val_loss: 0.4073 - val_accuracy: 0.8545\n",
      "Epoch 8/200\n",
      "60000/60000 [==============================] - 15s 252us/sample - loss: 0.3308 - accuracy: 0.8804 - val_loss: 0.3825 - val_accuracy: 0.8703\n",
      "Epoch 9/200\n",
      "60000/60000 [==============================] - 15s 252us/sample - loss: 0.3215 - accuracy: 0.8844 - val_loss: 0.3780 - val_accuracy: 0.8729\n",
      "Epoch 10/200\n",
      "60000/60000 [==============================] - 16s 272us/sample - loss: 0.3125 - accuracy: 0.8875 - val_loss: 0.3735 - val_accuracy: 0.8704\n",
      "Epoch 11/200\n",
      "60000/60000 [==============================] - 16s 259us/sample - loss: 0.3077 - accuracy: 0.8881 - val_loss: 0.4338 - val_accuracy: 0.8435\n",
      "Epoch 12/200\n",
      "60000/60000 [==============================] - 15s 257us/sample - loss: 0.2986 - accuracy: 0.8912 - val_loss: 0.4003 - val_accuracy: 0.8606\n",
      "Epoch 13/200\n",
      "60000/60000 [==============================] - 15s 257us/sample - loss: 0.2938 - accuracy: 0.8931 - val_loss: 0.4067 - val_accuracy: 0.8623\n",
      "Epoch 14/200\n",
      "60000/60000 [==============================] - 15s 257us/sample - loss: 0.2855 - accuracy: 0.8954 - val_loss: 0.3862 - val_accuracy: 0.8640\n",
      "Epoch 15/200\n",
      "60000/60000 [==============================] - 15s 257us/sample - loss: 0.2834 - accuracy: 0.8968 - val_loss: 0.3886 - val_accuracy: 0.8671\n"
     ]
    },
    {
     "data": {
      "text/plain": [
       "<tensorflow.python.keras.callbacks.History at 0x1c20d82cec8>"
      ]
     },
     "execution_count": 22,
     "metadata": {},
     "output_type": "execute_result"
    }
   ],
   "source": [
    "# fitting the training set to the model and validating on the test set\n",
    "model.fit(x=X_train,y=y_cat_train,epochs=200,validation_data=(X_test,y_cat_test),verbose=1,callbacks=[early_stop])"
   ]
  },
  {
   "cell_type": "code",
   "execution_count": 23,
   "metadata": {},
   "outputs": [
    {
     "data": {
      "text/html": [
       "<div>\n",
       "<style scoped>\n",
       "    .dataframe tbody tr th:only-of-type {\n",
       "        vertical-align: middle;\n",
       "    }\n",
       "\n",
       "    .dataframe tbody tr th {\n",
       "        vertical-align: top;\n",
       "    }\n",
       "\n",
       "    .dataframe thead th {\n",
       "        text-align: right;\n",
       "    }\n",
       "</style>\n",
       "<table border=\"1\" class=\"dataframe\">\n",
       "  <thead>\n",
       "    <tr style=\"text-align: right;\">\n",
       "      <th></th>\n",
       "      <th>loss</th>\n",
       "      <th>accuracy</th>\n",
       "      <th>val_loss</th>\n",
       "      <th>val_accuracy</th>\n",
       "    </tr>\n",
       "  </thead>\n",
       "  <tbody>\n",
       "    <tr>\n",
       "      <th>0</th>\n",
       "      <td>1.008979</td>\n",
       "      <td>0.749750</td>\n",
       "      <td>0.525453</td>\n",
       "      <td>0.8153</td>\n",
       "    </tr>\n",
       "    <tr>\n",
       "      <th>1</th>\n",
       "      <td>0.488558</td>\n",
       "      <td>0.826433</td>\n",
       "      <td>0.487021</td>\n",
       "      <td>0.8216</td>\n",
       "    </tr>\n",
       "    <tr>\n",
       "      <th>2</th>\n",
       "      <td>0.435482</td>\n",
       "      <td>0.843283</td>\n",
       "      <td>0.442565</td>\n",
       "      <td>0.8403</td>\n",
       "    </tr>\n",
       "    <tr>\n",
       "      <th>3</th>\n",
       "      <td>0.399559</td>\n",
       "      <td>0.855983</td>\n",
       "      <td>0.510363</td>\n",
       "      <td>0.8337</td>\n",
       "    </tr>\n",
       "    <tr>\n",
       "      <th>4</th>\n",
       "      <td>0.379255</td>\n",
       "      <td>0.863067</td>\n",
       "      <td>0.400094</td>\n",
       "      <td>0.8548</td>\n",
       "    </tr>\n",
       "    <tr>\n",
       "      <th>5</th>\n",
       "      <td>0.362033</td>\n",
       "      <td>0.869533</td>\n",
       "      <td>0.402147</td>\n",
       "      <td>0.8599</td>\n",
       "    </tr>\n",
       "    <tr>\n",
       "      <th>6</th>\n",
       "      <td>0.343483</td>\n",
       "      <td>0.875950</td>\n",
       "      <td>0.407307</td>\n",
       "      <td>0.8545</td>\n",
       "    </tr>\n",
       "    <tr>\n",
       "      <th>7</th>\n",
       "      <td>0.330794</td>\n",
       "      <td>0.880433</td>\n",
       "      <td>0.382470</td>\n",
       "      <td>0.8703</td>\n",
       "    </tr>\n",
       "    <tr>\n",
       "      <th>8</th>\n",
       "      <td>0.321522</td>\n",
       "      <td>0.884433</td>\n",
       "      <td>0.378031</td>\n",
       "      <td>0.8729</td>\n",
       "    </tr>\n",
       "    <tr>\n",
       "      <th>9</th>\n",
       "      <td>0.312480</td>\n",
       "      <td>0.887550</td>\n",
       "      <td>0.373527</td>\n",
       "      <td>0.8704</td>\n",
       "    </tr>\n",
       "    <tr>\n",
       "      <th>10</th>\n",
       "      <td>0.307745</td>\n",
       "      <td>0.888083</td>\n",
       "      <td>0.433805</td>\n",
       "      <td>0.8435</td>\n",
       "    </tr>\n",
       "    <tr>\n",
       "      <th>11</th>\n",
       "      <td>0.298637</td>\n",
       "      <td>0.891183</td>\n",
       "      <td>0.400280</td>\n",
       "      <td>0.8606</td>\n",
       "    </tr>\n",
       "    <tr>\n",
       "      <th>12</th>\n",
       "      <td>0.293755</td>\n",
       "      <td>0.893133</td>\n",
       "      <td>0.406702</td>\n",
       "      <td>0.8623</td>\n",
       "    </tr>\n",
       "    <tr>\n",
       "      <th>13</th>\n",
       "      <td>0.285515</td>\n",
       "      <td>0.895433</td>\n",
       "      <td>0.386170</td>\n",
       "      <td>0.8640</td>\n",
       "    </tr>\n",
       "    <tr>\n",
       "      <th>14</th>\n",
       "      <td>0.283393</td>\n",
       "      <td>0.896817</td>\n",
       "      <td>0.388584</td>\n",
       "      <td>0.8671</td>\n",
       "    </tr>\n",
       "  </tbody>\n",
       "</table>\n",
       "</div>"
      ],
      "text/plain": [
       "        loss  accuracy  val_loss  val_accuracy\n",
       "0   1.008979  0.749750  0.525453        0.8153\n",
       "1   0.488558  0.826433  0.487021        0.8216\n",
       "2   0.435482  0.843283  0.442565        0.8403\n",
       "3   0.399559  0.855983  0.510363        0.8337\n",
       "4   0.379255  0.863067  0.400094        0.8548\n",
       "5   0.362033  0.869533  0.402147        0.8599\n",
       "6   0.343483  0.875950  0.407307        0.8545\n",
       "7   0.330794  0.880433  0.382470        0.8703\n",
       "8   0.321522  0.884433  0.378031        0.8729\n",
       "9   0.312480  0.887550  0.373527        0.8704\n",
       "10  0.307745  0.888083  0.433805        0.8435\n",
       "11  0.298637  0.891183  0.400280        0.8606\n",
       "12  0.293755  0.893133  0.406702        0.8623\n",
       "13  0.285515  0.895433  0.386170        0.8640\n",
       "14  0.283393  0.896817  0.388584        0.8671"
      ]
     },
     "execution_count": 23,
     "metadata": {},
     "output_type": "execute_result"
    }
   ],
   "source": [
    "# Storing the result of the training\n",
    "\n",
    "results = pd.DataFrame(model.history.history)\n",
    "results"
   ]
  },
  {
   "cell_type": "code",
   "execution_count": 24,
   "metadata": {},
   "outputs": [
    {
     "data": {
      "text/plain": [
       "<matplotlib.axes._subplots.AxesSubplot at 0x1c2191ea648>"
      ]
     },
     "execution_count": 24,
     "metadata": {},
     "output_type": "execute_result"
    },
    {
     "data": {
      "image/png": "[encoded data removed]",
      "text/plain": [
       "<Figure size 432x288 with 1 Axes>"
      ]
     },
     "metadata": {
      "needs_background": "light"
     },
     "output_type": "display_data"
    }
   ],
   "source": [
    "results[['loss','val_loss']].plot()"
   ]
  },
  {
   "cell_type": "code",
   "execution_count": 25,
   "metadata": {},
   "outputs": [
    {
     "data": {
      "text/plain": [
       "<matplotlib.axes._subplots.AxesSubplot at 0x1c2192a0148>"
      ]
     },
     "execution_count": 25,
     "metadata": {},
     "output_type": "execute_result"
    },
    {
     "data": {
      "image/png": "[encoded data removed]",
      "text/plain": [
       "<Figure size 432x288 with 1 Axes>"
      ]
     },
     "metadata": {
      "needs_background": "light"
     },
     "output_type": "display_data"
    }
   ],
   "source": [
    "results[['accuracy','val_accuracy']].plot()"
   ]
  },
  {
   "cell_type": "code",
   "execution_count": 26,
   "metadata": {},
   "outputs": [],
   "source": [
    "# making predictions using the model on the test set\n",
    "predictions = model.predict_classes(X_test)\n",
    "true_value = list(y_test)\n",
    "predictions = list(predictions)\n",
    "sub = pd.DataFrame({'True Value':true_value,'Predictions':predictions})\n",
    "sub.to_csv('./True_VS_Predicted_Fashion_MNIST_ANN.csv',index=False)"
   ]
  },
  {
   "cell_type": "code",
   "execution_count": 28,
   "metadata": {},
   "outputs": [
    {
     "data": {
      "text/plain": [
       "array([[718,   1,  14,  35,   2,   2, 206,   0,  22,   0],\n",
       "       [  1, 962,   1,  28,   2,   0,   2,   0,   4,   0],\n",
       "       [  6,   0, 728,  15, 105,   0, 105,   0,  41,   0],\n",
       "       [ 17,   1,   7, 898,  33,   0,  35,   0,   9,   0],\n",
       "       [  0,   1,  76,  39, 789,   0,  78,   0,  17,   0],\n",
       "       [  0,   0,   0,   0,   0, 957,   0,  25,   3,  15],\n",
       "       [ 79,   1,  68,  31,  51,   0, 709,   0,  61,   0],\n",
       "       [  0,   0,   0,   0,   0,  12,   0, 963,   0,  25],\n",
       "       [  2,   0,   1,   5,   3,   1,   3,   3, 982,   0],\n",
       "       [  1,   0,   0,   0,   0,   3,   0,  31,   0, 965]], dtype=int64)"
      ]
     },
     "execution_count": 28,
     "metadata": {},
     "output_type": "execute_result"
    }
   ],
   "source": [
    "# evaluating using the confusion matrix\n",
    "from sklearn.metrics import confusion_matrix\n",
    "con_mat = confusion_matrix(y_test,predictions)\n",
    "con_mat"
   ]
  },
  {
   "cell_type": "code",
   "execution_count": null,
   "metadata": {},
   "outputs": [],
   "source": []
  }
 ],
 "metadata": {
  "kernelspec": {
   "display_name": "Python 3.7 (tensorflow)",
   "language": "python",
   "name": "tensorflow"
  },
  "language_info": {
   "codemirror_mode": {
    "name": "ipython",
    "version": 3
   },
   "file_extension": ".py",
   "mimetype": "text/x-python",
   "name": "python",
   "nbconvert_exporter": "python",
   "pygments_lexer": "ipython3",
   "version": "3.7.7"
  }
 },
 "nbformat": 4,
 "nbformat_minor": 4
}
